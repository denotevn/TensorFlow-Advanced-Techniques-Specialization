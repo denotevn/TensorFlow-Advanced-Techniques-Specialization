{
 "cells": [
  {
   "cell_type": "code",
   "execution_count": null,
   "metadata": {},
   "outputs": [],
   "source": []
  }
 ],
 "metadata": {
  "kernelspec": {
   "display_name": "Python 3.10.6 ('tuanenv': venv)",
   "language": "python",
   "name": "python3"
  },
  "language_info": {
   "name": "python",
   "version": "3.10.6"
  },
  "orig_nbformat": 4,
  "vscode": {
   "interpreter": {
    "hash": "955aa470c8565e9aadb8e3ee8e8f8e594779665e40f5ec3e7a09d680ae61b69b"
   }
  }
 },
 "nbformat": 4,
 "nbformat_minor": 2
}
